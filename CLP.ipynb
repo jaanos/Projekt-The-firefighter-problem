{
 "cells": [
  {
   "cell_type": "markdown",
   "metadata": {
    "collapsed": false
   },
   "source": [
    "THE FIREFIGTER PROBLEM\n"
   ]
  },
  {
   "cell_type": "code",
   "execution_count": 118,
   "metadata": {
    "collapsed": false
   },
   "outputs": [
   ],
   "source": [
    "def clp(G, B, gasilci, cas):\n",
    "    # vhodni podatki:\n",
    "    #     G           izbran graf\n",
    "    #     B           vozlišča, ki na začetku zgorijo\n",
    "    #     gasilci     število gasilcev, ki v vsakem koraku gasijo požar\n",
    "    #     cas         maksimaleno število časovnih enot\n",
    "    # izhodni podatki:\n",
    "    #     seznam oblike [število časovnih enot, pogorela/burnt vozlišča po časih, zaščitena/defended vozlišča po časih]\n",
    " \n",
    "    casi = range(1, cas+1) # uprabljamo pri zankah\n",
    "    \n",
    "    # CLP:\n",
    "    p = MixedIntegerLinearProgram(maximization=False) # CLP\n",
    "    d = p.new_variable(binary=True) # spremenljivka, defended\n",
    "    b = p.new_variable(binary=True) # spremenljivka, burnt\n",
    "\n",
    "    p.set_objective(sum(b[i, cas] for i in G)) # minimiziramo število pogorelih vozlišč na koncu \n",
    "\n",
    "    for t in casi:\n",
    "        for i in G:\n",
    "            for j in G[i]: # j je številka v seznamu vozlišča i, sosed od i\n",
    "                p.add_constraint(b[i,t] + d[i,t] - b[j,t-1] >= 0)\n",
    "            p.add_constraint(b[i,t] + d[i,t] <= 1)\n",
    "            p.add_constraint(b[i,t] - b[i,t-1] >= 0)\n",
    "            p.add_constraint(d[i,t] - d[i,t-1] >= 0)\n",
    "        p.add_constraint(sum((d[i,t] - d[i,t-1]) for i in G) <= gasilci)\n",
    "\n",
    "    for i in G:\n",
    "        p.add_constraint(b[i,0] == (1 if i in B else 0))\n",
    "        p.add_constraint(d[i,0] == 0)\n",
    "        \n",
    "    return [p.solve(), p.get_values(b), p.get_values(d)]\n",
    "\n",
    "\n",
    "def skrcitev(dic, t):\n",
    "    # pomožna funkcija skrcitev vrne seznam, ki vsebuje vozlišča, ki jih je potrebno pobarvati (imajo vrednost ključa 1) v določenem času\n",
    "\n",
    "    new = []\n",
    "    for key in dic:\n",
    "        if key[1] == t and dic[key] == 1:\n",
    "            new.append(key[0])\n",
    "    return new\n",
    "\n",
    "\n",
    "def ali_je_problem_koncan(G, B, gasilci, t):\n",
    "    # funkcija nam pove ali je problem v času t zaključen/končen\n",
    "    \n",
    "    b = skrcitev(clp(G, B, gasilci, t)[1], t) # burnt vozlišča v času t\n",
    "    d = skrcitev(clp(G, B, gasilci, t)[2], t) # defended vozlišča v času t\n",
    "\n",
    "    # sosedi od pogorelih vozlišč so lahko pogoreli ali zaščiteni. Ne smejo biti prazna vozlišča\n",
    "    for pogorelo_vozlisce in b:\n",
    "        for sosed_od_pogorelo_vozlisce in G[pogorelo_vozlisce]:\n",
    "            if sosed_od_pogorelo_vozlisce not in b + d:\n",
    "                return False\n",
    "    return True\n",
    "\n",
    "   \n",
    "def cas_potreben(G, B, gasilci, cas):\n",
    "    # iz p.solve() pridobi čas po katerem se nič več ne spremeni -> dobimo potreben čas\n",
    "    \n",
    "    burnt = clp(G, B, gasilci, cas)[1]\n",
    "    defended = clp(G,B,gasilci,cas)[2]\n",
    "\n",
    "    urej_burnt = sorted(burnt.items(), key=lambda tup: tup[0][1]) #uredi glede na čas po vozliščih naraščajoče\n",
    "    urej_defended = sorted(defended.items(), key=lambda tup: tup[0][1]) \n",
    "\n",
    "    vredn_burnt= []\n",
    "    for i, v in urej_burnt:\n",
    "        vredn_burnt.append(v)\n",
    "    #pridobim ven vrednosti spremnljivk b v časih in vozliščih naraščajoče\n",
    "\n",
    "    vredn_defended= []\n",
    "    for i, v in urej_defended:\n",
    "        vredn_defended.append(v)\n",
    "    #pridobim ven vrednosti spremnljivk d v časih in vozliščih naraščajoče\n",
    "\n",
    "    #from itertools import islice\n",
    "    from itertools import accumulate\n",
    "    dolzina = [len(G)] * (cas +1) # Vrednosti zgrupiram v paketke, v vsakem je toliko vrednosti, kolikor je vozlišč\n",
    "    seznami_vrednosti_po_casih_burnt = [vredn_burnt[x - y: x] for x, y in zip(\n",
    "                        accumulate(dolzina), dolzina)]\n",
    "\n",
    "    seznami_vrednosti_po_casih_defended = [vredn_defended[x - y: x] for x, y in zip(\n",
    "                        accumulate(dolzina), dolzina)]\n",
    "\n",
    "    i = 0\n",
    "    while seznami_vrednosti_po_casih_burnt[i] != seznami_vrednosti_po_casih_burnt[i+1]:\n",
    "        i = i+1\n",
    "    i+1     # vrne čas ko se neha spreminjati, prišteti moramo 1, ker začnemo z 0\n",
    "\n",
    "    j = 0\n",
    "    while seznami_vrednosti_po_casih_defended[j] != seznami_vrednosti_po_casih_defended[j+1]:\n",
    "        j = j+1\n",
    "    j+1 # čas ko se neha spreminjati\n",
    "\n",
    "    return max(i, j) #večji od časev ko se neha spreminjati\n",
    "\n",
    "\n",
    "\n",
    "def barvanje_v_casu_t(G, B, gasilci, cas, t):\n",
    "    # pomožna funkcija barvanje_v_casu_t izriše graf in pobarva vozlišča v določenem času (t). Začetna vozlišča oz. izvor pošara pobarva v zeleno, \n",
    "    #     pogorela v  rdečo, zaščitena pa v modro. \n",
    "\n",
    "    b = skrcitev(clp(G, B, gasilci, cas)[1], t) # burnt vozlišča v času t BREZ ZAČETNIH VOZLIŠČ B\n",
    "    for el in B:\n",
    "        b.remove(el)\n",
    "    d = skrcitev(clp(G, B, gasilci, cas)[2], t) # defended vozlišča v času t\n",
    "    \n",
    "    return G.show(partition = [b, B, d])\n",
    "\n",
    "\n",
    "def barvanje_po_korakih(G, B, gasilci, cas):\n",
    "    # funkcija, ki za vsako časovno enoto nariše situacijo na grafu\n",
    "    #     barve:\n",
    "    #         - zelena: oglišča kjer se požar začne (B)\n",
    "    #         - rdeča: pogorela\n",
    "    #         - modra: zaščitena\n",
    "    \n",
    "    if not ali_je_problem_koncan(G, B, gasilci, cas):\n",
    "        return 'V izbranem času problem še ni zaključen.'\n",
    "    \n",
    "    else:    \n",
    "        time = cas_potreben(G, B, gasilci, cas)\n",
    "        print(\"Število potrebnih časovnih korakov: \" + str(time))\n",
    "        for t in range(0, time + 1):\n",
    "            print(\"Situacija v času \" + str(t) + \":\")\n",
    "            barvanje_v_casu_t(G, B, gasilci, cas, t)\n",
    "    "
   ]
  },
  {
   "cell_type": "code",
   "execution_count": 119,
   "metadata": {
    "collapsed": false
   },
   "outputs": [
    {
     "ename": "IndexError",
     "evalue": "list index out of range",
     "output_type": "error",
     "traceback": [
      "\u001b[0;31m---------------------------------------------------------------------------\u001b[0m",
      "\u001b[0;31mIndexError\u001b[0m                                Traceback (most recent call last)",
      "Input \u001b[0;32mIn [119]\u001b[0m, in \u001b[0;36m<cell line: 6>\u001b[0;34m()\u001b[0m\n\u001b[1;32m      4\u001b[0m gasilci1 \u001b[38;5;241m=\u001b[39m Integer(\u001b[38;5;241m2\u001b[39m)\n\u001b[1;32m      5\u001b[0m cas1 \u001b[38;5;241m=\u001b[39m Integer(\u001b[38;5;241m10\u001b[39m)\n\u001b[0;32m----> 6\u001b[0m \u001b[43mbarvanje_po_korakih\u001b[49m\u001b[43m(\u001b[49m\u001b[43mG1\u001b[49m\u001b[43m,\u001b[49m\u001b[43m \u001b[49m\u001b[43mB1\u001b[49m\u001b[43m,\u001b[49m\u001b[43m \u001b[49m\u001b[43mgasilci1\u001b[49m\u001b[43m,\u001b[49m\u001b[43m \u001b[49m\u001b[43mInteger\u001b[49m\u001b[43m(\u001b[49m\u001b[38;5;241;43m2\u001b[39;49m\u001b[43m)\u001b[49m\u001b[43m)\u001b[49m\n",
      "Input \u001b[0;32mIn [118]\u001b[0m, in \u001b[0;36mbarvanje_po_korakih\u001b[0;34m(G, B, gasilci, cas)\u001b[0m\n\u001b[1;32m    121\u001b[0m     \u001b[38;5;28;01mreturn\u001b[39;00m \u001b[38;5;124m'\u001b[39m\u001b[38;5;124mV izbranem času problem še ni zaključen.\u001b[39m\u001b[38;5;124m'\u001b[39m\n\u001b[1;32m    123\u001b[0m \u001b[38;5;28;01melse\u001b[39;00m:    \n\u001b[0;32m--> 124\u001b[0m     time \u001b[38;5;241m=\u001b[39m \u001b[43mcas_potreben\u001b[49m\u001b[43m(\u001b[49m\u001b[43mG\u001b[49m\u001b[43m,\u001b[49m\u001b[43m \u001b[49m\u001b[43mB\u001b[49m\u001b[43m,\u001b[49m\u001b[43m \u001b[49m\u001b[43mgasilci\u001b[49m\u001b[43m,\u001b[49m\u001b[43m \u001b[49m\u001b[43mcas\u001b[49m\u001b[43m)\u001b[49m\n\u001b[1;32m    125\u001b[0m     \u001b[38;5;28mprint\u001b[39m(\u001b[38;5;124m\"\u001b[39m\u001b[38;5;124mŠtevilo potrebnih časovnih korakov: \u001b[39m\u001b[38;5;124m\"\u001b[39m \u001b[38;5;241m+\u001b[39m \u001b[38;5;28mstr\u001b[39m(time))\n\u001b[1;32m    126\u001b[0m     \u001b[38;5;28;01mfor\u001b[39;00m t \u001b[38;5;129;01min\u001b[39;00m \u001b[38;5;28mrange\u001b[39m(Integer(\u001b[38;5;241m0\u001b[39m), time \u001b[38;5;241m+\u001b[39m Integer(\u001b[38;5;241m1\u001b[39m)):\n",
      "Input \u001b[0;32mIn [118]\u001b[0m, in \u001b[0;36mcas_potreben\u001b[0;34m(G, B, gasilci, cas)\u001b[0m\n\u001b[1;32m     84\u001b[0m seznami_vrednosti_po_casih_defended \u001b[38;5;241m=\u001b[39m [vredn_defended[x \u001b[38;5;241m-\u001b[39m y: x] \u001b[38;5;28;01mfor\u001b[39;00m x, y \u001b[38;5;129;01min\u001b[39;00m \u001b[38;5;28mzip\u001b[39m(\n\u001b[1;32m     85\u001b[0m                     accumulate(dolzina), dolzina)]\n\u001b[1;32m     87\u001b[0m i \u001b[38;5;241m=\u001b[39m Integer(\u001b[38;5;241m0\u001b[39m)\n\u001b[0;32m---> 88\u001b[0m \u001b[38;5;28;01mwhile\u001b[39;00m seznami_vrednosti_po_casih_burnt[i] \u001b[38;5;241m!=\u001b[39m \u001b[43mseznami_vrednosti_po_casih_burnt\u001b[49m\u001b[43m[\u001b[49m\u001b[43mi\u001b[49m\u001b[38;5;241;43m+\u001b[39;49m\u001b[43mInteger\u001b[49m\u001b[43m(\u001b[49m\u001b[38;5;241;43m1\u001b[39;49m\u001b[43m)\u001b[49m\u001b[43m]\u001b[49m:\n\u001b[1;32m     89\u001b[0m     i \u001b[38;5;241m=\u001b[39m i\u001b[38;5;241m+\u001b[39mInteger(\u001b[38;5;241m1\u001b[39m)\n\u001b[1;32m     90\u001b[0m i\u001b[38;5;241m+\u001b[39mInteger(\u001b[38;5;241m1\u001b[39m)     \u001b[38;5;66;03m# vrne čas ko se neha spreminjati, prišteti moramo 1, ker začnemo z 0\u001b[39;00m\n",
      "\u001b[0;31mIndexError\u001b[0m: list index out of range"
     ]
    }
   ],
   "source": [
    "# PRIMER 1:\n",
    "G1 = graphs.Grid2dGraph(3, 4)\n",
    "B1 = [(1, 1), (2, 2)]\n",
    "gasilci1 = 2\n",
    "cas1 = 10\n",
    "barvanje_po_korakih(G1, B1, gasilci1, 2)\n",
    "#ali_je_problem_koncan(G1, B1, gasilci1, 1)"
   ]
  },
  {
   "cell_type": "code",
   "execution_count": 120,
   "metadata": {
    "collapsed": false
   },
   "outputs": [
    {
     "ename": "IndexError",
     "evalue": "list index out of range",
     "output_type": "error",
     "traceback": [
      "\u001b[0;31m---------------------------------------------------------------------------\u001b[0m",
      "\u001b[0;31mIndexError\u001b[0m                                Traceback (most recent call last)",
      "Input \u001b[0;32mIn [120]\u001b[0m, in \u001b[0;36m<cell line: 6>\u001b[0;34m()\u001b[0m\n\u001b[1;32m      4\u001b[0m gasilci2 \u001b[38;5;241m=\u001b[39m Integer(\u001b[38;5;241m3\u001b[39m)\n\u001b[1;32m      5\u001b[0m cas2 \u001b[38;5;241m=\u001b[39m Integer(\u001b[38;5;241m10\u001b[39m)\n\u001b[0;32m----> 6\u001b[0m \u001b[43mbarvanje_po_korakih\u001b[49m\u001b[43m(\u001b[49m\u001b[43mG2\u001b[49m\u001b[43m,\u001b[49m\u001b[43m \u001b[49m\u001b[43mB2\u001b[49m\u001b[43m,\u001b[49m\u001b[43m \u001b[49m\u001b[43mgasilci2\u001b[49m\u001b[43m,\u001b[49m\u001b[43m \u001b[49m\u001b[43mInteger\u001b[49m\u001b[43m(\u001b[49m\u001b[38;5;241;43m3\u001b[39;49m\u001b[43m)\u001b[49m\u001b[43m)\u001b[49m\n",
      "Input \u001b[0;32mIn [118]\u001b[0m, in \u001b[0;36mbarvanje_po_korakih\u001b[0;34m(G, B, gasilci, cas)\u001b[0m\n\u001b[1;32m    121\u001b[0m     \u001b[38;5;28;01mreturn\u001b[39;00m \u001b[38;5;124m'\u001b[39m\u001b[38;5;124mV izbranem času problem še ni zaključen.\u001b[39m\u001b[38;5;124m'\u001b[39m\n\u001b[1;32m    123\u001b[0m \u001b[38;5;28;01melse\u001b[39;00m:    \n\u001b[0;32m--> 124\u001b[0m     time \u001b[38;5;241m=\u001b[39m \u001b[43mcas_potreben\u001b[49m\u001b[43m(\u001b[49m\u001b[43mG\u001b[49m\u001b[43m,\u001b[49m\u001b[43m \u001b[49m\u001b[43mB\u001b[49m\u001b[43m,\u001b[49m\u001b[43m \u001b[49m\u001b[43mgasilci\u001b[49m\u001b[43m,\u001b[49m\u001b[43m \u001b[49m\u001b[43mcas\u001b[49m\u001b[43m)\u001b[49m\n\u001b[1;32m    125\u001b[0m     \u001b[38;5;28mprint\u001b[39m(\u001b[38;5;124m\"\u001b[39m\u001b[38;5;124mŠtevilo potrebnih časovnih korakov: \u001b[39m\u001b[38;5;124m\"\u001b[39m \u001b[38;5;241m+\u001b[39m \u001b[38;5;28mstr\u001b[39m(time))\n\u001b[1;32m    126\u001b[0m     \u001b[38;5;28;01mfor\u001b[39;00m t \u001b[38;5;129;01min\u001b[39;00m \u001b[38;5;28mrange\u001b[39m(Integer(\u001b[38;5;241m0\u001b[39m), time \u001b[38;5;241m+\u001b[39m Integer(\u001b[38;5;241m1\u001b[39m)):\n",
      "Input \u001b[0;32mIn [118]\u001b[0m, in \u001b[0;36mcas_potreben\u001b[0;34m(G, B, gasilci, cas)\u001b[0m\n\u001b[1;32m     90\u001b[0m i\u001b[38;5;241m+\u001b[39mInteger(\u001b[38;5;241m1\u001b[39m)     \u001b[38;5;66;03m# vrne čas ko se neha spreminjati, prišteti moramo 1, ker začnemo z 0\u001b[39;00m\n\u001b[1;32m     92\u001b[0m j \u001b[38;5;241m=\u001b[39m Integer(\u001b[38;5;241m0\u001b[39m)\n\u001b[0;32m---> 93\u001b[0m \u001b[38;5;28;01mwhile\u001b[39;00m seznami_vrednosti_po_casih_defended[j] \u001b[38;5;241m!=\u001b[39m \u001b[43mseznami_vrednosti_po_casih_defended\u001b[49m\u001b[43m[\u001b[49m\u001b[43mj\u001b[49m\u001b[38;5;241;43m+\u001b[39;49m\u001b[43mInteger\u001b[49m\u001b[43m(\u001b[49m\u001b[38;5;241;43m1\u001b[39;49m\u001b[43m)\u001b[49m\u001b[43m]\u001b[49m:\n\u001b[1;32m     94\u001b[0m     j \u001b[38;5;241m=\u001b[39m j\u001b[38;5;241m+\u001b[39mInteger(\u001b[38;5;241m1\u001b[39m)\n\u001b[1;32m     95\u001b[0m j\u001b[38;5;241m+\u001b[39mInteger(\u001b[38;5;241m1\u001b[39m) \u001b[38;5;66;03m# čas ko se neha spreminjati\u001b[39;00m\n",
      "\u001b[0;31mIndexError\u001b[0m: list index out of range"
     ]
    }
   ],
   "source": [
    "# PRIMER 2:\n",
    "G2 = graphs.PetersenGraph()\n",
    "B2 = [1,5]\n",
    "gasilci2 = 3\n",
    "cas2 = 10\n",
    "barvanje_po_korakih(G2, B2, gasilci2, 3)\n",
    "#ali_je_problem_koncan(G2, B2, gasilci2, 2)"
   ]
  },
  {
   "cell_type": "code",
   "execution_count": 121,
   "metadata": {
    "collapsed": false
   },
   "outputs": [
    {
     "data": {
      "text/plain": [
       "True"
      ]
     },
     "execution_count": 121,
     "metadata": {
     },
     "output_type": "execute_result"
    }
   ],
   "source": [
    "# PRIMER 3:\n",
    "G3 = graphs.PappusGraph()\n",
    "B3 = [0,1,2,3]\n",
    "gasilci3 = 3\n",
    "cas3 = 10\n",
    "#barvanje_po_korakih(G3, B3, gasilci3, cas3)\n",
    "ali_je_problem_koncan(G3, B3, gasilci3, 3)"
   ]
  }
 ],
 "metadata": {
  "kernelspec": {
   "display_name": "SageMath 9.7",
   "language": "sagemath",
   "metadata": {
    "cocalc": {
     "description": "Open-source mathematical software system",
     "priority": 10,
     "url": "https://www.sagemath.org/"
    }
   },
   "name": "sage-9.7",
   "resource_dir": "/ext/jupyter/kernels/sage-9.7"
  },
  "language_info": {
   "codemirror_mode": {
    "name": "ipython",
    "version": 3
   },
   "file_extension": ".py",
   "mimetype": "text/x-python",
   "name": "python",
   "nbconvert_exporter": "python",
   "pygments_lexer": "ipython3",
   "version": "3.10.5"
  }
 },
 "nbformat": 4,
 "nbformat_minor": 4
}