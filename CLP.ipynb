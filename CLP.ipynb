{
 "cells": [
  {
   "cell_type": "markdown",
   "metadata": {
    "collapsed": false
   },
   "source": [
    "THE FIREFIGTER PROBLEM\n"
   ]
  },
  {
   "cell_type": "code",
   "execution_count": 2,
   "metadata": {
    "collapsed": false
   },
   "outputs": [
   ],
   "source": [
    "def clp(G, B, gasilci, cas):\n",
    "    # vhodni podatki:\n",
    "    #     G           izbran graf\n",
    "    #     B           vozlišča, ki na začetku zgorijo\n",
    "    #     gasilci     število gasilcev, ki v vsakem koraku gasijo požar\n",
    "    #     cas         maksimaleno število časovnih enot\n",
    "    # izhodni podatki:\n",
    "    #     seznam oblike [število časovnih enot, pogorela/burnt vozlišča po časih, zaščitena/defended vozlišča po časih]\n",
    " \n",
    "    casi = range(1, cas+1) # uprabljamo pri zankah\n",
    "    \n",
    "    # CLP:\n",
    "    p = MixedIntegerLinearProgram(maximization=False) # CLP\n",
    "    d = p.new_variable(binary=True) # spremenljivka, defended\n",
    "    b = p.new_variable(binary=True) # spremenljivka, burnt\n",
    "\n",
    "    p.set_objective(sum(b[i, cas] for i in G)) # minimiziramo število pogorelih vozlišč na koncu \n",
    "\n",
    "    for t in casi:\n",
    "        for i in G:\n",
    "            for j in G[i]: # j je številka v seznamu vozlišča i, sosed od i\n",
    "                p.add_constraint(b[i,t] + d[i,t] - b[j,t-1] >= 0)\n",
    "            p.add_constraint(b[i,t] + d[i,t] <= 1)\n",
    "            p.add_constraint(b[i,t] - b[i,t-1] >= 0)\n",
    "            p.add_constraint(d[i,t] - d[i,t-1] >= 0)\n",
    "        p.add_constraint(sum((d[i,t] - d[i,t-1]) for i in G) <= gasilci)\n",
    "\n",
    "    for i in G:\n",
    "        p.add_constraint(b[i,0] == (1 if i in B else 0))\n",
    "        p.add_constraint(d[i,0] == 0)\n",
    "        \n",
    "    return [p.solve(), p.get_values(b), p.get_values(d)]\n",
    "\n",
    "\n",
    "def skrcitev(dic, t):\n",
    "    # pomožna funkcija skrcitev vrne seznam, ki vsebuje vozlišča, ki jih je potrebno pobarvati (imajo vrednost ključa 1) v določenem času\n",
    "\n",
    "    new = []\n",
    "    for key in dic:\n",
    "        if key[1] == t and dic[key] == 1:\n",
    "            new.append(key[0])\n",
    "    return new\n",
    "\n",
    "\n",
    "def ali_je_problem_koncan(G, B, gasilci, cas, t):\n",
    "    # funkcija nam pove ali je problem v času t zaključen/končen\n",
    "    \n",
    "    b = skrcitev(clp(G, B, gasilci, cas)[1], t) # burnt vozlišča v t\n",
    "    d = skrcitev(clp(G, B, gasilci, cas)[2], t) # defended vozlišča v t\n",
    "    skupaj = b + d\n",
    "\n",
    "    # sosedi od pogorelih vozlišč so lahko pogoreli ali zaščiteni. Ne smejo biti prazna vozlišča\n",
    "    for pogorelo_vozlisce in b:\n",
    "        for sosed_od_pogorelo_vozlisce in G[pogorelo_vozlisce]:\n",
    "            if sosed_od_pogorelo_vozlisce not in skupaj:\n",
    "                return False\n",
    "    return True\n",
    "\n",
    "   \n",
    "def cas_potreben(G, B, gasilci, cas):\n",
    "    # iz p.solve() pridobi čas po katerem se nič več ne spremeni -> dobimo potreben čas\n",
    "    \n",
    "    burnt = clp(G, B, gasilci, cas)[1]\n",
    "    defended = clp(G,B,gasilci,cas)[2]\n",
    "\n",
    "    urej_burnt = sorted(burnt.items(), key=lambda tup: tup[0][1]) #uredi glede na čas po vozliščih naraščajoče\n",
    "    urej_defended = sorted(defended.items(), key=lambda tup: tup[0][1]) \n",
    "\n",
    "    vredn_burnt= []\n",
    "    for i, v in urej_burnt:\n",
    "        vredn_burnt.append(v)\n",
    "    #pridobim ven vrednosti spremnljivk b v časih in vozliščih naraščajoče\n",
    "\n",
    "    vredn_defended= []\n",
    "    for i, v in urej_defended:\n",
    "        vredn_defended.append(v)\n",
    "    #pridobim ven vrednosti spremnljivk d v časih in vozliščih naraščajoče\n",
    "\n",
    "    #from itertools import islice\n",
    "    from itertools import accumulate\n",
    "    dolzina = [len(G)] * (cas +1) # Vrednosti zgrupiram v paketke, v vsakem je toliko vrednosti, kolikor je vozlišč\n",
    "    seznami_vrednosti_po_casih_burnt = [vredn_burnt[x - y: x] for x, y in zip(\n",
    "                        accumulate(dolzina), dolzina)]\n",
    "\n",
    "    seznami_vrednosti_po_casih_defended = [vredn_defended[x - y: x] for x, y in zip(\n",
    "                        accumulate(dolzina), dolzina)]\n",
    "\n",
    "    i = 0\n",
    "    while seznami_vrednosti_po_casih_burnt[i] != seznami_vrednosti_po_casih_burnt[i+1]:\n",
    "        i = i+1\n",
    "    i    # vrne čas ko se neha spreminjati, prišteti moramo 1, ker začnemo z 0\n",
    "\n",
    "    j = 0\n",
    "    while seznami_vrednosti_po_casih_defended[j] != seznami_vrednosti_po_casih_defended[j+1]:\n",
    "        j = j+1\n",
    "    j # čas ko se neha spreminjati\n",
    "\n",
    "    return max(i, j) #večji od časev ko se neha spreminjati\n",
    "\n",
    "\n",
    "\n",
    "def barvanje_v_casu_t(G, B, gasilci, cas, t):\n",
    "    # pomožna funkcija barvanje_v_casu_t izriše graf in pobarva vozlišča v določenem času (t). Začetna vozlišča oz. izvor pošara pobarva v zeleno, \n",
    "    #     pogorela v  rdečo, zaščitena pa v modro. \n",
    "\n",
    "    b = skrcitev(clp(G, B, gasilci, cas)[1], t) # burnt vozlišča v času t BREZ ZAČETNIH VOZLIŠČ B\n",
    "    for el in B:\n",
    "        b.remove(el)\n",
    "    d = skrcitev(clp(G, B, gasilci, cas)[2], t) # defended vozlišča v času t\n",
    "    \n",
    "    return G.show(partition = [b, B, d])\n",
    "\n",
    "\n",
    "def barvanje_po_korakih(G, B, gasilci, cas, t):\n",
    "    # funkcija, ki za vsako časovno enoto nariše situacijo na grafu\n",
    "    #     barve:\n",
    "    #         - zelena: oglišča kjer se požar začne (B)\n",
    "    #         - rdeča: pogorela\n",
    "    #         - modra: zaščitena\n",
    "    \n",
    "    if ali_je_problem_koncan(G, B, gasilci, cas, t) == False:\n",
    "        return 'V izbranem času problem še ni zaključen.'\n",
    "    \n",
    "    else:    \n",
    "        time = cas_potreben(G, B, gasilci, cas)\n",
    "        print(\"Število potrebnih časovnih korakov: \" + str(time))\n",
    "        for t in range(0, time + 1):\n",
    "            print(\"Situacija v času \" + str(t) + \":\")\n",
    "            barvanje_v_casu_t(G, B, gasilci, cas, t)\n"
   ]
  },
  {
   "cell_type": "code",
   "execution_count": 3,
   "metadata": {
    "collapsed": false
   },
   "outputs": [
   ],
   "source": [
    "# PRIMER 1:\n",
    "G1 = graphs.Grid2dGraph(3, 4)\n",
    "B1 = [(1, 1), (2, 2)]\n",
    "gasilci1 = 2\n",
    "cas1 = 10\n",
    "#barvanje_po_korakih(G1, B1, gasilci1, cas1, 3)\n",
    "#ali_je_problem_koncan(G1, B1, gasilci1, cas1, 2)\n",
    "#ali_je_problem_koncan(G1,B1,gasilci1,1,1) #lahko preverjamo, če je cas1 uredu, recimo tukaj cas1 = 1 ni uredu, ker na koncu (t=1) še problem ni končan"
   ]
  },
  {
   "cell_type": "code",
   "execution_count": 4,
   "metadata": {
    "collapsed": false
   },
   "outputs": [
   ],
   "source": [
    "# PRIMER 2:\n",
    "G2 = graphs.PetersenGraph()\n",
    "B2 = [1,5]\n",
    "gasilci2 = 3\n",
    "cas2 = 10\n",
    "#barvanje_po_korakih(G2, B2, gasilci2, cas2, 2)\n",
    "#ali_je_problem_koncan(G2, B2, gasilci2, cas2, 2)"
   ]
  },
  {
   "cell_type": "code",
   "execution_count": 5,
   "metadata": {
    "collapsed": false
   },
   "outputs": [
   ],
   "source": [
    "# PRIMER 3:\n",
    "G3 = graphs.PappusGraph()\n",
    "B3 = [0,1,2,3]\n",
    "gasilci3 = 3\n",
    "cas3 = 2\n",
    "#barvanje_po_korakih(G3, B3, gasilci3, cas3, 3)\n",
    "#ali_je_problem_koncan(G3, B3, gasilci3, cas3, 4)"
   ]
  },
  {
   "cell_type": "code",
   "execution_count": 11,
   "metadata": {
    "collapsed": false
   },
   "outputs": [
   ],
   "source": [
    "# različni grafi (poimenovano GG*) glede na število vozlišč:\n",
    "# 5: \n",
    "GG1 = graphs.BullGraph()\n",
    "GG2 = graphs.ButterflyGraph()\n",
    "GG3 = graphs.GemGraph()\n",
    "GG4 = graphs.HouseXGraph()\n",
    "\n",
    "# 12:\n",
    "GG5 = graphs.HeawoodGraph() # ta mi je všeč\n",
    "\n",
    "# 13:\n",
    "c = graphs.CycleGraph(5)\n",
    "p = graphs.PathGraph(3)\n",
    "GG6 = p.cartesian_product(c)\n",
    "\n",
    "# 16:\n",
    "GG7 = graphs.PappusGraph()\n",
    "\n",
    "# na izbranem številu vozlišč:\n",
    "GG8 = graphs.CircularLadderGraph(3) # namesto 3 se lahko da katerokoli številko npr. n in bo imel 2*n vozlišč\n",
    "GG9 = graphs.Grid2dGraph(3,5) # matrika 3 x 5\n",
    "\n",
    "# PREBERI NASLEDNJE: \n",
    "# \n",
    "# grafi na izbranem številu vozlišč se mi zdi, da so še najbolš, ker lahko narediva zanko, ki nam jih bo vračala kar sama. Bova pa seveda\n",
    "#     vključile tudi ostale grafe. Poglej še ti, če najdeš kakšne, kjer se da število vozlišč notr in primerni.\n",
    "#\n",
    "# za vsak graf bi morali sami določiti B in število gasilcev. Predlagam, da število gasilcev res sami določiva za vse grafe \n",
    "#     kar enako število (npr. 2 ali 3, da jih ne bo preveč, lahko tudi ločiva primere). \n",
    "#     Za množico B pa se mi zdi, da bi bilo najboljše, če bi pythonu rekle, da kar sam izbere 2 poljubni vozlišči, ker itak običajno ne vemo \n",
    "#     kje požar izbruhne in še manj dela bi imele. In lahko isti graf (z n vozlišči) kar dvakrat ali večkrat uporabimo, ker itak se bo B spreminjal. \n",
    "#\n",
    "# Prav tako pa se mi zdi, da ČE BOVA DELALI .csv DATOTEKO MORAVA NAREDITI ŠE LOČENO .py DATOTEKO, KER PREKO TEGA PROGRAMA VERJETN NE BO ŠLO\n",
    "\n"
   ]
  }
 ],
 "metadata": {
  "kernelspec": {
   "display_name": "SageMath 9.7",
   "language": "sagemath",
   "metadata": {
    "cocalc": {
     "description": "Open-source mathematical software system",
     "priority": 10,
     "url": "https://www.sagemath.org/"
    }
   },
   "name": "sage-9.7",
   "resource_dir": "/ext/jupyter/kernels/sage-9.7"
  },
  "language_info": {
   "codemirror_mode": {
    "name": "ipython",
    "version": 3
   },
   "file_extension": ".py",
   "mimetype": "text/x-python",
   "name": "python",
   "nbconvert_exporter": "python",
   "pygments_lexer": "ipython3",
   "version": "3.10.5"
  }
 },
 "nbformat": 4,
 "nbformat_minor": 4
}