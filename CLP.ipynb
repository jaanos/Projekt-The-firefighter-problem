{
 "cells": [
  {
   "cell_type": "code",
   "execution_count": 0,
   "metadata": {
    "collapsed": false
   },
   "outputs": [
   ],
   "source": [
    "N = [] #vozlišča; seznam sosedov?? mislim, da bi bilo to najboljše\n",
    "B = [] #vozlišča, ki na začetku zgorijo\n",
    "gasilci = D #število gasilcev\n",
    "cas = T #max čas\n",
    "V = len(N) #število vozlišč\n",
    "\n",
    "p = MixedIntegerLinearProgram(maximization=True) #CLP\n",
    "d = p.new_variable(binary=True) #spremenljivka, defended\n",
    "b = p.new_variable(binary=True) #spremenljivka, burnt\n",
    "\n",
    "\n",
    "p.set_objective(V - sum(b[i, cas] for i in range(1, V))) #maksimiziramo število nepogorelih vozlišč na koncu \n",
    "\n",
    "for i in range(1, V) for t in range(1, cas) for j in N[i] #j je številka v seznamu vozlišča i, sosed od i\n",
    "    p.add_constraint(b[i,t] + d[i,t] - b[j,t-1] >= 0)\n",
    "    \n",
    "for i in range(1, V) for t in range(1, cas) \n",
    "    p.add_constraint(b[i,t] + d[i,t] <= 1)\n",
    "    \n",
    "for i in range(1, V) for t in range(1, cas) \n",
    "    p.add_constraint(b[i,t] - b[i,t-1] >= 0)\n",
    "    \n",
    "for i in range(1, V) for t in range(1, cas) \n",
    "    p.add_constraint(d[i,t] - d[i,t-1] >= 0)\n",
    "    \n",
    "for t in range(1, cas)    \n",
    "    p.add_constraint(sum((d[i,t] - d[i,t-1]) for i in range(1, V)) <= D)\n",
    "    \n",
    "for i in B\n",
    "    p.add_constraint(b[i,0] = 1)\n",
    "\n",
    "for i not in B \n",
    "    p.add_constraint(b[i,0] = 0)\n",
    "    \n",
    "for i in range(1,V)\n",
    "    p.add_constraint(d[i,0] = 0)"
   ]
  }
 ],
 "metadata": {
  "kernelspec": {
   "display_name": "SageMath 9.7",
   "language": "sagemath",
   "metadata": {
    "cocalc": {
     "description": "Open-source mathematical software system",
     "priority": 10,
     "url": "https://www.sagemath.org/"
    }
   },
   "name": "sage-9.7",
   "resource_dir": "/ext/jupyter/kernels/sage-9.7"
  }
 },
 "nbformat": 4,
 "nbformat_minor": 4
}